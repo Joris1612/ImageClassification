{
 "cells": [
  {
   "cell_type": "code",
   "execution_count": 7,
   "id": "initial_id",
   "metadata": {
    "collapsed": true,
    "ExecuteTime": {
     "end_time": "2025-01-15T14:29:30.124038600Z",
     "start_time": "2025-01-15T14:29:30.108018Z"
    }
   },
   "outputs": [],
   "source": [
    "import tensorflow as tf\n",
    "import numpy as np\n",
    "from PIL import Image\n",
    "import matplotlib.pyplot as plt"
   ]
  },
  {
   "cell_type": "code",
   "execution_count": 8,
   "outputs": [],
   "source": [
    "def load_and_preprocess_image(image_path, image_size=(128, 128)):\n",
    "    \"\"\"Load and preprocess an image from the given path.\"\"\"\n",
    "    # Load image using PIL\n",
    "    img = Image.open(image_path)\n",
    "    img = img.resize(image_size)  # Resize to target size\n",
    "    img_array = np.array(img) / 255.0  # Convert to array and normalize\n",
    "    img_array = np.expand_dims(img_array, axis=0)  # Add batch dimension for model\n",
    "    return img_array\n",
    "\n",
    "def predict_image(model_path, image_path, class_names):\n",
    "    \"\"\"Load a trained model and predict the image.\"\"\"\n",
    "    model = tf.keras.models.load_model(model_path)  # Load the model\n",
    "    img_array = load_and_preprocess_image(image_path)  # Load and preprocess the image\n",
    "\n",
    "    predictions = model.predict(img_array)  # Predict the image\n",
    "    predicted_labels = (predictions > 0.5).astype(int)  # Apply threshold to get binary labels\n",
    "\n",
    "    # Convert binary labels to class names\n",
    "    predicted_class_names = [class_names[i] for i, val in enumerate(predicted_labels[0]) if val == 1]\n",
    "\n",
    "    # Plot the image and predicted labels\n",
    "    plt.figure(figsize=(8, 4))\n",
    "    plt.imshow(Image.open(image_path))\n",
    "    plt.title(\"Predicted: \" + \", \".join(predicted_class_names))\n",
    "    plt.axis('off')\n",
    "    plt.show()\n",
    "\n",
    "    return predictions"
   ],
   "metadata": {
    "collapsed": false,
    "ExecuteTime": {
     "end_time": "2025-01-15T14:29:30.157516300Z",
     "start_time": "2025-01-15T14:29:30.137839800Z"
    }
   },
   "id": "f1bc3de9061856e"
  },
  {
   "cell_type": "code",
   "execution_count": 9,
   "outputs": [
    {
     "ename": "ValueError",
     "evalue": "Exception encountered when calling Functional.call().\n\n\u001B[1mInvalid input shape for input Tensor(\"data:0\", shape=(1, 128, 128), dtype=float32). Expected shape (None, 128, 128, 3), but input has incompatible shape (1, 128, 128)\u001B[0m\n\nArguments received by Functional.call():\n  • inputs=tf.Tensor(shape=(1, 128, 128), dtype=float32)\n  • training=False\n  • mask=None",
     "output_type": "error",
     "traceback": [
      "\u001B[1;31m---------------------------------------------------------------------------\u001B[0m",
      "\u001B[1;31mValueError\u001B[0m                                Traceback (most recent call last)",
      "Cell \u001B[1;32mIn[9], line 9\u001B[0m\n\u001B[0;32m      2\u001B[0m image_path \u001B[38;5;241m=\u001B[39m \u001B[38;5;124m'\u001B[39m\u001B[38;5;124mimages/00000013_036.png\u001B[39m\u001B[38;5;124m'\u001B[39m  \u001B[38;5;66;03m# Adjust path as needed\u001B[39;00m\n\u001B[0;32m      3\u001B[0m class_names \u001B[38;5;241m=\u001B[39m [\n\u001B[0;32m      4\u001B[0m     \u001B[38;5;124m\"\u001B[39m\u001B[38;5;124mAtelectasis\u001B[39m\u001B[38;5;124m\"\u001B[39m, \u001B[38;5;124m\"\u001B[39m\u001B[38;5;124mCardiomegaly\u001B[39m\u001B[38;5;124m\"\u001B[39m, \u001B[38;5;124m\"\u001B[39m\u001B[38;5;124mEffusion\u001B[39m\u001B[38;5;124m\"\u001B[39m, \u001B[38;5;124m\"\u001B[39m\u001B[38;5;124mInfiltration\u001B[39m\u001B[38;5;124m\"\u001B[39m, \u001B[38;5;124m\"\u001B[39m\u001B[38;5;124mMass\u001B[39m\u001B[38;5;124m\"\u001B[39m,\n\u001B[0;32m      5\u001B[0m     \u001B[38;5;124m\"\u001B[39m\u001B[38;5;124mNodule\u001B[39m\u001B[38;5;124m\"\u001B[39m, \u001B[38;5;124m\"\u001B[39m\u001B[38;5;124mPneumonia\u001B[39m\u001B[38;5;124m\"\u001B[39m, \u001B[38;5;124m\"\u001B[39m\u001B[38;5;124mPneumothorax\u001B[39m\u001B[38;5;124m\"\u001B[39m, \u001B[38;5;124m\"\u001B[39m\u001B[38;5;124mConsolidation\u001B[39m\u001B[38;5;124m\"\u001B[39m, \u001B[38;5;124m\"\u001B[39m\u001B[38;5;124mEdema\u001B[39m\u001B[38;5;124m\"\u001B[39m,\n\u001B[0;32m      6\u001B[0m     \u001B[38;5;124m\"\u001B[39m\u001B[38;5;124mEmphysema\u001B[39m\u001B[38;5;124m\"\u001B[39m, \u001B[38;5;124m\"\u001B[39m\u001B[38;5;124mFibrosis\u001B[39m\u001B[38;5;124m\"\u001B[39m, \u001B[38;5;124m\"\u001B[39m\u001B[38;5;124mPleural_Thickening\u001B[39m\u001B[38;5;124m\"\u001B[39m, \u001B[38;5;124m\"\u001B[39m\u001B[38;5;124mHernia\u001B[39m\u001B[38;5;124m\"\u001B[39m\n\u001B[0;32m      7\u001B[0m ]  \u001B[38;5;66;03m# Class names as used during training\u001B[39;00m\n\u001B[1;32m----> 9\u001B[0m predictions \u001B[38;5;241m=\u001B[39m \u001B[43mpredict_image\u001B[49m\u001B[43m(\u001B[49m\u001B[43mmodel_path\u001B[49m\u001B[43m,\u001B[49m\u001B[43m \u001B[49m\u001B[43mimage_path\u001B[49m\u001B[43m,\u001B[49m\u001B[43m \u001B[49m\u001B[43mclass_names\u001B[49m\u001B[43m)\u001B[49m\n\u001B[0;32m     10\u001B[0m \u001B[38;5;28mprint\u001B[39m(\u001B[38;5;124m\"\u001B[39m\u001B[38;5;124mRaw predictions:\u001B[39m\u001B[38;5;124m\"\u001B[39m, predictions)\n",
      "Cell \u001B[1;32mIn[8], line 15\u001B[0m, in \u001B[0;36mpredict_image\u001B[1;34m(model_path, image_path, class_names)\u001B[0m\n\u001B[0;32m     12\u001B[0m model \u001B[38;5;241m=\u001B[39m tf\u001B[38;5;241m.\u001B[39mkeras\u001B[38;5;241m.\u001B[39mmodels\u001B[38;5;241m.\u001B[39mload_model(model_path)  \u001B[38;5;66;03m# Load the model\u001B[39;00m\n\u001B[0;32m     13\u001B[0m img_array \u001B[38;5;241m=\u001B[39m load_and_preprocess_image(image_path)  \u001B[38;5;66;03m# Load and preprocess the image\u001B[39;00m\n\u001B[1;32m---> 15\u001B[0m predictions \u001B[38;5;241m=\u001B[39m \u001B[43mmodel\u001B[49m\u001B[38;5;241;43m.\u001B[39;49m\u001B[43mpredict\u001B[49m\u001B[43m(\u001B[49m\u001B[43mimg_array\u001B[49m\u001B[43m)\u001B[49m  \u001B[38;5;66;03m# Predict the image\u001B[39;00m\n\u001B[0;32m     16\u001B[0m predicted_labels \u001B[38;5;241m=\u001B[39m (predictions \u001B[38;5;241m>\u001B[39m \u001B[38;5;241m0.5\u001B[39m)\u001B[38;5;241m.\u001B[39mastype(\u001B[38;5;28mint\u001B[39m)  \u001B[38;5;66;03m# Apply threshold to get binary labels\u001B[39;00m\n\u001B[0;32m     18\u001B[0m \u001B[38;5;66;03m# Convert binary labels to class names\u001B[39;00m\n",
      "File \u001B[1;32m~\\AppData\\Local\\Programs\\Python\\Python39\\lib\\site-packages\\keras\\src\\utils\\traceback_utils.py:122\u001B[0m, in \u001B[0;36mfilter_traceback.<locals>.error_handler\u001B[1;34m(*args, **kwargs)\u001B[0m\n\u001B[0;32m    119\u001B[0m     filtered_tb \u001B[38;5;241m=\u001B[39m _process_traceback_frames(e\u001B[38;5;241m.\u001B[39m__traceback__)\n\u001B[0;32m    120\u001B[0m     \u001B[38;5;66;03m# To get the full stack trace, call:\u001B[39;00m\n\u001B[0;32m    121\u001B[0m     \u001B[38;5;66;03m# `keras.config.disable_traceback_filtering()`\u001B[39;00m\n\u001B[1;32m--> 122\u001B[0m     \u001B[38;5;28;01mraise\u001B[39;00m e\u001B[38;5;241m.\u001B[39mwith_traceback(filtered_tb) \u001B[38;5;28;01mfrom\u001B[39;00m \u001B[38;5;28;01mNone\u001B[39;00m\n\u001B[0;32m    123\u001B[0m \u001B[38;5;28;01mfinally\u001B[39;00m:\n\u001B[0;32m    124\u001B[0m     \u001B[38;5;28;01mdel\u001B[39;00m filtered_tb\n",
      "File \u001B[1;32m~\\AppData\\Local\\Programs\\Python\\Python39\\lib\\site-packages\\keras\\src\\models\\functional.py:264\u001B[0m, in \u001B[0;36mFunctional._adjust_input_rank\u001B[1;34m(self, flat_inputs)\u001B[0m\n\u001B[0;32m    262\u001B[0m             adjusted\u001B[38;5;241m.\u001B[39mappend(ops\u001B[38;5;241m.\u001B[39mexpand_dims(x, axis\u001B[38;5;241m=\u001B[39m\u001B[38;5;241m-\u001B[39m\u001B[38;5;241m1\u001B[39m))\n\u001B[0;32m    263\u001B[0m             \u001B[38;5;28;01mcontinue\u001B[39;00m\n\u001B[1;32m--> 264\u001B[0m     \u001B[38;5;28;01mraise\u001B[39;00m \u001B[38;5;167;01mValueError\u001B[39;00m(\n\u001B[0;32m    265\u001B[0m         \u001B[38;5;124mf\u001B[39m\u001B[38;5;124m\"\u001B[39m\u001B[38;5;124mInvalid input shape for input \u001B[39m\u001B[38;5;132;01m{\u001B[39;00mx\u001B[38;5;132;01m}\u001B[39;00m\u001B[38;5;124m. Expected shape \u001B[39m\u001B[38;5;124m\"\u001B[39m\n\u001B[0;32m    266\u001B[0m         \u001B[38;5;124mf\u001B[39m\u001B[38;5;124m\"\u001B[39m\u001B[38;5;132;01m{\u001B[39;00mref_shape\u001B[38;5;132;01m}\u001B[39;00m\u001B[38;5;124m, but input has incompatible shape \u001B[39m\u001B[38;5;132;01m{\u001B[39;00mx\u001B[38;5;241m.\u001B[39mshape\u001B[38;5;132;01m}\u001B[39;00m\u001B[38;5;124m\"\u001B[39m\n\u001B[0;32m    267\u001B[0m     )\n\u001B[0;32m    268\u001B[0m \u001B[38;5;66;03m# Add back metadata.\u001B[39;00m\n\u001B[0;32m    269\u001B[0m \u001B[38;5;28;01mfor\u001B[39;00m i \u001B[38;5;129;01min\u001B[39;00m \u001B[38;5;28mrange\u001B[39m(\u001B[38;5;28mlen\u001B[39m(flat_inputs)):\n",
      "\u001B[1;31mValueError\u001B[0m: Exception encountered when calling Functional.call().\n\n\u001B[1mInvalid input shape for input Tensor(\"data:0\", shape=(1, 128, 128), dtype=float32). Expected shape (None, 128, 128, 3), but input has incompatible shape (1, 128, 128)\u001B[0m\n\nArguments received by Functional.call():\n  • inputs=tf.Tensor(shape=(1, 128, 128), dtype=float32)\n  • training=False\n  • mask=None"
     ]
    }
   ],
   "source": [
    "model_path = 'XRAY-E10-multi-label.keras'  # Adjust path as needed\n",
    "image_path = 'images/00000013_036.png'  # Adjust path as needed\n",
    "class_names = [\n",
    "    \"Atelectasis\", \"Cardiomegaly\", \"Effusion\", \"Infiltration\", \"Mass\",\n",
    "    \"Nodule\", \"Pneumonia\", \"Pneumothorax\", \"Consolidation\", \"Edema\",\n",
    "    \"Emphysema\", \"Fibrosis\", \"Pleural_Thickening\", \"Hernia\"\n",
    "]  # Class names as used during training\n",
    "\n",
    "predictions = predict_image(model_path, image_path, class_names)\n",
    "print(\"Raw predictions:\", predictions)"
   ],
   "metadata": {
    "collapsed": false,
    "ExecuteTime": {
     "end_time": "2025-01-15T14:29:30.557351800Z",
     "start_time": "2025-01-15T14:29:30.140849800Z"
    }
   },
   "id": "7f662d90df54884f"
  },
  {
   "cell_type": "code",
   "execution_count": null,
   "outputs": [],
   "source": [],
   "metadata": {
    "collapsed": false,
    "ExecuteTime": {
     "end_time": "2025-01-15T14:29:30.558905Z",
     "start_time": "2025-01-15T14:29:30.558905Z"
    }
   },
   "id": "cd12bd849a4bba66"
  }
 ],
 "metadata": {
  "kernelspec": {
   "display_name": "Python 3",
   "language": "python",
   "name": "python3"
  },
  "language_info": {
   "codemirror_mode": {
    "name": "ipython",
    "version": 2
   },
   "file_extension": ".py",
   "mimetype": "text/x-python",
   "name": "python",
   "nbconvert_exporter": "python",
   "pygments_lexer": "ipython2",
   "version": "2.7.6"
  }
 },
 "nbformat": 4,
 "nbformat_minor": 5
}
